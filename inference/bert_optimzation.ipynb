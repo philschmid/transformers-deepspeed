{
 "cells": [
  {
   "cell_type": "markdown",
   "metadata": {},
   "source": [
    "# Accelerate BERT & RoBERTa inference with Hugging Face Transformers and DeepSpeed-Inference\n",
    "\n",
    "\n",
    "\n",
    "\n",
    "what we are going to do:\n",
    "* setup environment\n",
    "* load pretrained model \n",
    "* initialize deepspeed inference engine\n",
    "* evaluate performance and accuracy \n",
    "\n"
   ]
  }
 ],
 "metadata": {
  "language_info": {
   "name": "python"
  },
  "orig_nbformat": 4
 },
 "nbformat": 4,
 "nbformat_minor": 2
}
